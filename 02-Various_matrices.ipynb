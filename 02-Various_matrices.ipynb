{
 "cells": [
  {
   "cell_type": "markdown",
   "metadata": {},
   "source": [
    "## 전치행렬(Transposed Matrix)\n",
    "- 기존 행렬의 행과 열을 바꾼 행렬.\n",
    "- 따라서 기존 행렬의 행 번호가 열 번호가 되고 열 번호가 행 번호가 된다.\n",
    "- 이로 인해 원래의 행렬을 전치(transpose)하게 되면 행렬의 크기도 바뀌게 된다.\n",
    "- 행렬 A가 transpose 되었음을 A의 오른쪽위에 T를 붙여 $A^T$로 나타낸다.\n",
    "\n",
    "## 전치행렬의 성질\n",
    "1. $(A^T)^T=A$\n",
    "2. $(A+B)^T = A^T+B^T$\n",
    "3. $(A-B)^T = A^T-B^T$\n",
    "4. $(aA)^T = aA^T$\n",
    "5. $(AB)^T = B^TA^T$\n",
    "\n",
    "1번 ~ 4번 특성은 사실 당연하게 볼 수 있다. 단, 5번 특성의 경우 matrix multiplication의 순서가 역순(reverse order)이 되는 점을 기억해야한다."
   ]
  },
  {
   "cell_type": "code",
   "execution_count": 7,
   "metadata": {},
   "outputs": [],
   "source": [
    "import numpy as np"
   ]
  },
  {
   "cell_type": "code",
   "execution_count": 8,
   "metadata": {},
   "outputs": [
    {
     "name": "stdout",
     "output_type": "stream",
     "text": [
      "[[1, 3, 6], [5, 4, 2]]\n",
      "[[1 3 6]\n",
      " [5 4 2]]\n"
     ]
    }
   ],
   "source": [
    "## Matrix Transpose\n",
    "## Python \n",
    "A = [[1, 5], \n",
    "     [3, 4], \n",
    "     [6, 2]] ## 3 by 2 행렬이니까 전치행렬은 2 by 3가 되어야 한다.\n",
    "\n",
    "## row1 -> column1 row2 -> column2\n",
    "result = []\n",
    "for i in range(len(A[0])):\n",
    "    row = []\n",
    "    for j in range(len(A)):\n",
    "        row.append(A[j][i])\n",
    "    result.append(row)\n",
    "print(result)\n",
    "\n",
    "## Numpy\n",
    "A = np.array([[1, 5], [3, 4], [6, 2]])\n",
    "AT = np.transpose(A)\n",
    "print(AT)\n",
    "    "
   ]
  },
  {
   "cell_type": "markdown",
   "metadata": {},
   "source": [
    "## 대칭행렬(Symmetric Matrix)\n",
    "- 대각원소(diagonal entries)들을 기준으로 좌우가 대칭인 정사각행렬(Square matrix)\n",
    "- 따라서 원래의 행렬을 transpose 하더라도 그 결과가 원래의 행렬과 동일하다. $A^T=A$\n",
    "\n",
    "## 대칭행렬의 성질\n",
    "1. 두 개의 symmetric matrix A, B간 덧셈 또는 뺄셈의 결과 행렬 역시 Symmetric matrix이다.\n",
    "2. A와 B간 행렬곱(matrix multiplication)의 결과는 symmetic matrix가 아니다.\n",
    "3. $A^2$ 과 같이 대칭행렬을 n제곱한 결과행렬은 symmetric matrix이다.\n",
    "4. A가 대칭행렬이 아닐 때, $A^T$와의 행렬곱 결과는 symmetric matrix이다.\n",
    "\n",
    "특징 4번은 선형대수에서 매우 중요한 특성 중 하나이다. 다시 한 번 적어보자면 행렬 A는 non-symmetirc matrix이다.  \n",
    "이 때 A의 transpose인 $A^T$와의 곱셈 $A^TA$ 또는 $AA^T$의 결과는 symmetric matrix이다.  \n",
    "단, 주의할 점은 $AA^T$와 $A^TA$는 같을 수도 있고 다를 수도 있다."
   ]
  },
  {
   "cell_type": "code",
   "execution_count": 23,
   "metadata": {},
   "outputs": [
    {
     "name": "stdout",
     "output_type": "stream",
     "text": [
      "===== Python =====\n",
      "[[1, 0, 2], [0, 2, 1], [2, 1, 1]] True\n",
      "[[1, 3, 6], [5, 4, 2]] False\n",
      "===== Numpy =====\n",
      "[[1 0 2]\n",
      " [0 2 1]\n",
      " [2 1 1]] True\n",
      "[[1 3 6]\n",
      " [5 4 2]] False\n"
     ]
    }
   ],
   "source": [
    "## Symmetric Matrix\n",
    "## Python\n",
    "A1 = [[1, 0, 2],\n",
    "      [0, 2, 1],\n",
    "      [2, 1, 1]]\n",
    "\n",
    "A2 = [[1, 5], \n",
    "      [3, 4], \n",
    "      [6, 2]]\n",
    "\n",
    "def matrix_transpose(m):\n",
    "    result = []\n",
    "    for i in range(len(m[0])):\n",
    "        row = []\n",
    "        for j in range(len(m)):\n",
    "            row.append(m[j][i])\n",
    "        result.append(row)\n",
    "    \n",
    "    return result\n",
    "\n",
    "def check_symmetric(m, mt):\n",
    "    if isinstance(m, list):\n",
    "        if m == mt:\n",
    "            return True\n",
    "        else:\n",
    "            return False\n",
    "    elif isinstance(m, np.ndarray):\n",
    "        return np.array_equal(m, mt)\n",
    "\n",
    "print(\"===== Python =====\")\n",
    "A1_T = matrix_transpose(A1)\n",
    "print(A1_T, check_symmetric(A1, A1_T))\n",
    "\n",
    "A2_T = matrix_transpose(A2)\n",
    "print(A2_T, check_symmetric(A2, A2_T))\n",
    "\n",
    "## Numpy\n",
    "print(\"===== Numpy =====\")\n",
    "A1 = np.array(A1)\n",
    "A1_T = A1.transpose()\n",
    "print(A1_T, check_symmetric(A1, A1_T))\n",
    "\n",
    "A2 = np.array(A2)\n",
    "A2_T = A2.transpose()\n",
    "print(A2_T, check_symmetric(A2, A2_T))\n"
   ]
  },
  {
   "cell_type": "code",
   "execution_count": 31,
   "metadata": {},
   "outputs": [
    {
     "name": "stdout",
     "output_type": "stream",
     "text": [
      "A의 2제곱은 [[5, 2, 4], [2, 5, 3], [4, 3, 6]], True\n",
      "A의 3제곱은 [[13, 8, 16], [8, 13, 12], [16, 12, 17]], True\n",
      "A의 4제곱은 [[45, 32, 50], [32, 38, 41], [50, 41, 61]], True\n",
      "A의 5제곱은 [[145, 114, 172], [114, 117, 143], [172, 143, 202]], True\n",
      "A의 6제곱은 [[489, 400, 576], [400, 377, 488], [576, 488, 689]], True\n",
      "A의 7제곱은 [[1641, 1376, 1954], [1376, 1242, 1665], [1954, 1665, 2329]], True\n",
      "A의 8제곱은 [[5549, 4706, 6612], [4706, 4149, 5659], [6612, 5659, 7902]], True\n",
      "A의 9제곱은 [[18773, 16024, 22416], [16024, 13957, 19220], [22416, 19220, 26785]], True\n",
      "A의 10제곱은 [[63605, 54464, 75986], [54464, 47134, 65225], [75986, 65225, 90837]], True\n"
     ]
    }
   ],
   "source": [
    "## Symmetic matrix A의 n제곱은 Symmetic matrix이다.\n",
    "def matrix_multiplication(A, B):\n",
    "    result = []\n",
    "    for i in range(len(A)):\n",
    "        row = []\n",
    "        for j in range(len(A)):\n",
    "            entry = 0\n",
    "            for k in range(len(A[0])):\n",
    "                entry += A[i][k] * B[k][j]\n",
    "            row.append(entry)\n",
    "        result.append(row)\n",
    "\n",
    "    return result\n",
    "\n",
    "A = [[1, 0, 2],\n",
    "     [0, 2, 1],\n",
    "     [2, 1, 1]]\n",
    "\n",
    "AA = A\n",
    "for i in range(0, 9):\n",
    "    AA = matrix_multiplication(AA, A)\n",
    "    print(f\"A의 {i+2}제곱은 {AA}, {check_symmetric(AA, matrix_transpose(AA))}\")"
   ]
  },
  {
   "cell_type": "markdown",
   "metadata": {},
   "source": [
    "## 대각행렬(Diagonal Matrix)\n",
    "- 대각 원소(diagonal entry)들을 제외한 나머지 원소들(off-diagonal entries)이 0인 행렬.\n",
    "- 따라서 행 번호와 열 번호가 같을 때의 원소는 0이 아니고 다를 때의 원소는 0이다.\n",
    "- Diagonal matrix의 역행렬은 대각 원소들의 역수들이 주대각선에 배치된 행렬이다.\n",
    "- 대각 행렬의 거듭제곱은 대각 원소들을 거듭제곱한 행렬."
   ]
  },
  {
   "cell_type": "code",
   "execution_count": 39,
   "metadata": {},
   "outputs": [
    {
     "name": "stdout",
     "output_type": "stream",
     "text": [
      "[[ 2  2  3]\n",
      " [ 8  5  6]\n",
      " [14  8  9]]\n",
      "[[2 4 6]\n",
      " [4 5 6]\n",
      " [7 8 9]]\n"
     ]
    }
   ],
   "source": [
    "## 대각행렬이 아닌 행렬 A와 대각 행렬 D의 행렬 곱.\n",
    "A = [[1, 2, 3], [4, 5, 6], [7, 8, 9]]\n",
    "D = [[2, 0, 0], [0, 1, 0], [0, 0, 1]]\n",
    "\n",
    "AD = []\n",
    "for i in range(len(A)):\n",
    "    row = []\n",
    "    for j in range(len(A[0])):\n",
    "        entry = 0\n",
    "        for k in range(len(D)):\n",
    "            entry += A[i][k] * D[k][j]\n",
    "        row.append(entry)\n",
    "    AD.append(row)\n",
    "\n",
    "AD = np.array(AD)\n",
    "print(f\"{AD}\") ## 행렬 A의 column1이 D의 첫번째 diagonal entry만큼 값이 커진다. 즉, diagonal matrix가 오른쪽에 곱해지면 scaling matrix가 되는셈.\n",
    "## column picture로 보면 이해가 매우 쉽다. 행렬 A의 row * D의 column.\n",
    "\n",
    "DA = np.array(matrix_multiplication(D, A))\n",
    "print(f\"{DA}\")\n",
    "## row picture. 행렬 D의 column * A의 row"
   ]
  },
  {
   "cell_type": "code",
   "execution_count": 44,
   "metadata": {},
   "outputs": [
    {
     "name": "stdout",
     "output_type": "stream",
     "text": [
      "[[1, 0, 0], [0, 5, 0], [0, 0, 9]]\n",
      "[[1 0 0]\n",
      " [0 5 0]\n",
      " [0 0 9]]\n"
     ]
    }
   ],
   "source": [
    "## 임의의 행렬 A에서 diagonal matrix를 구한다.\n",
    "## Python\n",
    "A = [[1, 2, 3], [4, 5, 6], [7, 8, 9]]\n",
    "\n",
    "result = []\n",
    "for i in range(len(A)):\n",
    "    row = []\n",
    "    for j in range(len(A[0])):\n",
    "        if i == j:\n",
    "            row.append(A[i][j])\n",
    "        else:\n",
    "            row.append(0)\n",
    "    result.append(row)\n",
    "print(result)\n",
    "\n",
    "## Numpy\n",
    "A = np.array([[1, 2, 3], [4, 5, 6], [7, 8, 9]])\n",
    "A_diag = np.diag(np.diag(A))\n",
    "print(A_diag)"
   ]
  },
  {
   "cell_type": "markdown",
   "metadata": {},
   "source": [
    "## Identity Matrix\n",
    "- 대각원소가 1이고 나머지 원소들은 0인 행렬.\n",
    "- 행렬곱에 대한 항등원 역할을 하는 것이 바로 identity matrix(단위행렬 또는 항등행렬이다.)\n",
    "- $AI=IA=A$"
   ]
  },
  {
   "cell_type": "code",
   "execution_count": 45,
   "metadata": {},
   "outputs": [
    {
     "data": {
      "text/plain": [
       "[[1, 0, 0, 0, 0],\n",
       " [0, 1, 0, 0, 0],\n",
       " [0, 0, 1, 0, 0],\n",
       " [0, 0, 0, 1, 0],\n",
       " [0, 0, 0, 0, 1]]"
      ]
     },
     "execution_count": 45,
     "metadata": {},
     "output_type": "execute_result"
    }
   ],
   "source": [
    "## n by n identity matrix를 만든다.\n",
    "\n",
    "def make_identity(n):\n",
    "    identity_matrix = []\n",
    "    for i in range(n):\n",
    "        row = []\n",
    "        for j in range(n):\n",
    "            if i == j:\n",
    "                row.append(1)\n",
    "            else:\n",
    "                row.append(0)\n",
    "        identity_matrix.append(row)\n",
    "    \n",
    "    return identity_matrix\n",
    "\n",
    "make_identity(5)"
   ]
  },
  {
   "cell_type": "code",
   "execution_count": 49,
   "metadata": {},
   "outputs": [
    {
     "name": "stdout",
     "output_type": "stream",
     "text": [
      "[[1, 2, 3], [4, 5, 6], [7, 8, 9]]\n",
      "[[1, 2, 3], [4, 5, 6], [7, 8, 9]]\n",
      "[[1. 2. 3.]\n",
      " [4. 5. 6.]\n",
      " [7. 8. 9.]]\n",
      "[[1. 2. 3.]\n",
      " [4. 5. 6.]\n",
      " [7. 8. 9.]]\n"
     ]
    }
   ],
   "source": [
    "## Identity matrix와의 행렬곱은 변화가 없다. 행렬곱에 대한 항등원.\n",
    "## Python\n",
    "A = [[1, 2, 3], [4, 5, 6], [7, 8, 9]]\n",
    "I = make_identity(3)\n",
    "\n",
    "AI = matrix_multiplication(A, I)\n",
    "print(AI)\n",
    "\n",
    "IA = matrix_multiplication(I, A)\n",
    "print(IA)\n",
    "\n",
    "## Numpy\n",
    "I = np.identity(3)\n",
    "A = np.array([[1, 2, 3], [4, 5, 6], [7, 8, 9]])\n",
    "\n",
    "AI = np.matmul(A, I)\n",
    "IA = I @ A\n",
    "print(AI)\n",
    "print(IA)"
   ]
  },
  {
   "cell_type": "code",
   "execution_count": null,
   "metadata": {},
   "outputs": [],
   "source": []
  }
 ],
 "metadata": {
  "kernelspec": {
   "display_name": "Python 3",
   "language": "python",
   "name": "python3"
  },
  "language_info": {
   "codemirror_mode": {
    "name": "ipython",
    "version": 3
   },
   "file_extension": ".py",
   "mimetype": "text/x-python",
   "name": "python",
   "nbconvert_exporter": "python",
   "pygments_lexer": "ipython3",
   "version": "3.8.10"
  },
  "orig_nbformat": 4
 },
 "nbformat": 4,
 "nbformat_minor": 2
}
