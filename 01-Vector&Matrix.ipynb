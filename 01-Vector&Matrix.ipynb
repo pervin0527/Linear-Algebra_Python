{
 "cells": [
  {
   "cell_type": "markdown",
   "metadata": {},
   "source": [
    "## Vector\n",
    "- 벡터는 스칼라의 집합으로 뒤이어 배울 행렬을 구성하는 기본 단위로, 스칼라가 크기(magnitude)만 나타낸다면 벡터는 크기와 방향(direction)까지 동시에 나타낸다.\n",
    "- 일반적으로 벡터를 표현할 때에는 Column vector 형태를 기본으로 사용."
   ]
  },
  {
   "cell_type": "markdown",
   "metadata": {},
   "source": [
    "## Vector 연산 성질\n",
    "u, v, w는 벡터, a, b는 스칼라\n",
    "1. $u + v = v + u$ (commutative law. 벡터 덧셈은 교환법칙이 성립한다.)\n",
    "2. $(u + v) + w = u + (v + w)$ (associative law. 벡터 덧셈은 결합법칙이 성립한다.)\n",
    "3. $u + 0 = 0 + u$ (벡터 뎃셈은 항등원이 존재하며 그 항등원은 영벡터다.)\n",
    "4. $u + (-u) = 0$ (벡터 덧셈에 대한 역원은 해당 벡터의 역수.)\n",
    "5. $a(bu) = (ab)u$ (스칼라곱에 대한 결합법칙이 성립.)\n",
    "6. $a(u + v) = au + av$ (스칼라 곱과 벡터 덧셈에 대해 분배 법칙이 성립한다.)\n",
    "7. $(a + b)u = au + bu$\n",
    "\n",
    "벡터 연산의 성질은 Linearity의 조건을 만족함을 뜻한다.\n",
    "Linearity는 아래 두 조건을 만족할 때 성립하는 특성.\n",
    "- Additivity : f(x + y) = f(x) + f(y)\n",
    "- Homogeneity : f(cx) = cf(x)\n",
    "\n",
    "벡터 덧셈은 교환법칙, 결합법칙 그리고 항등원, 역원이 성립함에 따라 Additivity가 충족된다. 그리고 6번 스칼라 곱과 벡터의 덧셈이 성립함에 따라 Homogenity가 충족."
   ]
  },
  {
   "cell_type": "code",
   "execution_count": 1,
   "metadata": {},
   "outputs": [],
   "source": [
    "import numpy as np"
   ]
  },
  {
   "cell_type": "markdown",
   "metadata": {},
   "source": [
    "벡터의 덧셈, 뺄셈, 원소(element-wise) 곱 그리고 원소 나눗셈은 피연산자 벡터간 차원이 동일 할 때 가능한 연산들이다."
   ]
  },
  {
   "cell_type": "code",
   "execution_count": 2,
   "metadata": {},
   "outputs": [
    {
     "name": "stdout",
     "output_type": "stream",
     "text": [
      "[5, 7, 9]\n",
      "[5 7 9]\n"
     ]
    }
   ],
   "source": [
    "## Vector Addition\n",
    "## Python\n",
    "u = [1, 2, 3]\n",
    "v = [4, 5, 6]\n",
    "\n",
    "if len(u) == len(v): ## 두 벡터의 차원이 같을 때 벡터 덧셈 연산이 가능하다.\n",
    "    result = []\n",
    "    for idx in range(len(u)):\n",
    "        result.append(u[idx] + v[idx])\n",
    "    print(result)\n",
    "\n",
    "## Numpy\n",
    "u = np.array([1, 2, 3])\n",
    "v = np.array([4, 5, 6])\n",
    "print(u + v)"
   ]
  },
  {
   "cell_type": "code",
   "execution_count": 3,
   "metadata": {},
   "outputs": [
    {
     "name": "stdout",
     "output_type": "stream",
     "text": [
      "[5, -2, 2]\n",
      "[ 5 -2  2]\n"
     ]
    }
   ],
   "source": [
    "## Vector Subtraction\n",
    "## Python\n",
    "u = [7, 3, 9]\n",
    "v = [2, 5, 7]\n",
    "\n",
    "if len(u) == len(v):\n",
    "    result = []\n",
    "    for idx in range(len(u)):\n",
    "        result.append(u[idx] - v[idx])\n",
    "    print(result)\n",
    "\n",
    "## Numpy\n",
    "u = np.array([7, 3, 9])\n",
    "v = np.array([2, 5, 7])\n",
    "print(u - v)"
   ]
  },
  {
   "cell_type": "code",
   "execution_count": 4,
   "metadata": {},
   "outputs": [
    {
     "name": "stdout",
     "output_type": "stream",
     "text": [
      "[6, 12, 9]\n",
      "[ 6 12  9]\n"
     ]
    }
   ],
   "source": [
    "## Scalar Multiplication\n",
    "## Python\n",
    "c = 3\n",
    "u = [2, 4, 3]\n",
    "\n",
    "for idx in range(len(u)):\n",
    "    u[idx] *= c\n",
    "print(u)\n",
    "\n",
    "## Numpy\n",
    "c = 3\n",
    "u = np.array([2, 4, 3])\n",
    "print(c * u)"
   ]
  },
  {
   "cell_type": "code",
   "execution_count": 5,
   "metadata": {},
   "outputs": [
    {
     "name": "stdout",
     "output_type": "stream",
     "text": [
      "[7, 6, 8]\n",
      "[7 6 8]\n"
     ]
    }
   ],
   "source": [
    "## Element-wise multiplication\n",
    "## Python\n",
    "u = [1, 2, 4]\n",
    "v = [7, 3, 2]\n",
    "\n",
    "if len(u) == len(v):\n",
    "    result = []\n",
    "    for idx in range(len(u)):\n",
    "        result.append(u[idx] * v[idx])\n",
    "    print(result)\n",
    "\n",
    "## Numpy\n",
    "u = np.array([1, 2, 4])\n",
    "v = np.array([7, 3, 2])\n",
    "print(u * v)"
   ]
  },
  {
   "cell_type": "code",
   "execution_count": 6,
   "metadata": {},
   "outputs": [
    {
     "name": "stdout",
     "output_type": "stream",
     "text": [
      "[3.0, 2.5, -3.0]\n",
      "[ 3.   2.5 -3. ]\n"
     ]
    }
   ],
   "source": [
    "## Element-wise Division\n",
    "## Python\n",
    "u = [6, 5, 9]\n",
    "v = [2, 2, -3]\n",
    "\n",
    "if len(u) == len(v):\n",
    "    result = []\n",
    "    for idx in range(len(u)):\n",
    "        result.append(u[idx] / v[idx])\n",
    "    print(result)\n",
    "\n",
    "## Numpy\n",
    "u = np.array([6, 5, 9])\n",
    "v = np.array([2, 2, -3])\n",
    "print(u / v)"
   ]
  },
  {
   "cell_type": "markdown",
   "metadata": {},
   "source": [
    "## Matrix\n",
    "- 행렬은 n개의 스칼라 값을 사각형(Rectangular or Square) 형태로 나열한 것 또는 벡터들의 집합으로 볼 수 있다.  \n",
    "- row(행)와 column(열)로 indexing이 가능하며, 행렬의 원소들을 entry라고 표현한다.(벡터의 원소는 component.)\n",
    "- 데이터들의 집합(dataset 혹은 data table)을 행렬로 나타낼 수 있다. 이 때 각 row를 data record(또는 data sample) 각 column을 feature라고 부른다.\n",
    "- data table을 구성하는 속성값(나이, 성별, 몸무게 또는 국어, 영어, 수학 성적 등)는 Attribute."
   ]
  },
  {
   "cell_type": "markdown",
   "metadata": {},
   "source": [
    "## Matrix 연산 성질\n",
    "1. $A + B = B + A$ 행렬의 덧셈연산에는 교환법칙이 성립한다.\n",
    "2. $A + (B + C) = (A + B) + C$ 행렬의 덧셈연산은 결합법칙이 성립한다.\n",
    "3. $A(BC) = (AB)C$ 행렬의 곱셈(matrix multiplication)연산은 결합법칙이 성립한다.\n",
    "4. $A(B + C) = AB + AC$ left-distribution\n",
    "5. $(B + C)A = BA + CA$ right-distribution\n",
    "6. $a(B + C) = aB + aC$ 행렬의 덧셈은 상수배의 분배법칙이 성립한다.\n",
    "7. $a(bC) = abC$\n",
    "\n",
    "행렬의 연산 성질도 벡터의 연산 성질과 마찬가지로 Linearity가 성립함으로 이어진다."
   ]
  },
  {
   "cell_type": "markdown",
   "metadata": {},
   "source": [
    "벡터의 덧셈, 뺄셈과 마찬가지로 행렬의 덧셈, 뺄셈도 두 행렬의 차원이 같을 때 성립하는 연산이다."
   ]
  },
  {
   "cell_type": "code",
   "execution_count": 7,
   "metadata": {},
   "outputs": [
    {
     "name": "stdout",
     "output_type": "stream",
     "text": [
      "[[3, 11], [7, 3], [8, 6]]\n",
      "[[ 3 11]\n",
      " [ 7  3]\n",
      " [ 8  6]]\n"
     ]
    }
   ],
   "source": [
    "## Matrix Addition\n",
    "## Python\n",
    "A = [[2, 7],\n",
    "     [3, 4], \n",
    "     [6, 1]] ## 2 by 3 Rectangular matrix.\n",
    "\n",
    "B = [[1, 4],\n",
    "     [4, -1],\n",
    "     [2, 5]] ## 2 by 3 Rectangular matrix.\n",
    "\n",
    "if len(A) == len(B) and len(A[0]) == len(B[0]):\n",
    "    result = []\n",
    "    for i in range(len(A)): ## Row iter\n",
    "        row = []\n",
    "        for j in range(len(A[0])): ## Column iter\n",
    "            row.append(A[i][j] + B[i][j])\n",
    "        result.append(row)\n",
    "    \n",
    "    print(result)\n",
    "\n",
    "## Numpy\n",
    "A = np.array([[2, 7],\n",
    "              [3, 4],\n",
    "              [6, 1]])\n",
    "B = np.array([[1, 4,],\n",
    "              [4, -1],\n",
    "              [2, 5]])\n",
    "print(A+B)"
   ]
  },
  {
   "cell_type": "code",
   "execution_count": 10,
   "metadata": {},
   "outputs": [
    {
     "name": "stdout",
     "output_type": "stream",
     "text": [
      "[[1, 3], [-1, 5], [4, -4]]\n",
      "[[ 1  3]\n",
      " [-1  5]\n",
      " [ 4 -4]]\n"
     ]
    }
   ],
   "source": [
    "## Matrix Subtraction\n",
    "## Python\n",
    "A = [[2, 7],\n",
    "     [3, 4],\n",
    "     [6, 1]]\n",
    "B = [[1, 4],\n",
    "     [4, -1],\n",
    "     [2, 5]]\n",
    "\n",
    "if len(A) == len(B) and len(A[0]) == len(B[0]):\n",
    "    result = []\n",
    "    for i in range(len(A)):\n",
    "        row = []\n",
    "        for j in range(len(A[0])):\n",
    "            row.append(A[i][j] - B[i][j])\n",
    "        result.append(row)\n",
    "    \n",
    "    print(result)\n",
    "\n",
    "## Numpy\n",
    "A = np.array([[2, 7],\n",
    "              [3, 4],\n",
    "              [6, 1]])\n",
    "\n",
    "B = np.array([[1, 4],\n",
    "              [4, -1],\n",
    "              [2, 5]])\n",
    "print(A - B)"
   ]
  },
  {
   "cell_type": "code",
   "execution_count": 13,
   "metadata": {},
   "outputs": [
    {
     "name": "stdout",
     "output_type": "stream",
     "text": [
      "[[4, 14], [6, 8], [12, 2]]\n",
      "[[ 4 14]\n",
      " [ 6  8]\n",
      " [12  2]]\n"
     ]
    }
   ],
   "source": [
    "## Matrix scalar mutliplication\n",
    "## Python\n",
    "A = [[2, 7],\n",
    "     [3, 4],\n",
    "     [6, 1]]\n",
    "c = 2\n",
    "\n",
    "result = []\n",
    "for i in range(len(A)):\n",
    "    row = []\n",
    "    for j in range(len(A[0])):\n",
    "        row.append(A[i][j] * c)\n",
    "    result.append(row)\n",
    "\n",
    "print(result)\n",
    "\n",
    "## Numpy\n",
    "A = np.array([[2, 7],\n",
    "              [3, 4],\n",
    "              [6, 1]])\n",
    "c = 2\n",
    "\n",
    "print(A * c)\n"
   ]
  },
  {
   "cell_type": "code",
   "execution_count": 15,
   "metadata": {},
   "outputs": [
    {
     "name": "stdout",
     "output_type": "stream",
     "text": [
      "[[5, -5], [6, 8], [8, 7]]\n",
      "[[ 5 -5]\n",
      " [ 6  8]\n",
      " [ 8  7]]\n"
     ]
    }
   ],
   "source": [
    "## Element-wise matrix multiplication\n",
    "## Python\n",
    "A = [[1, 5], [6, 4], [2, 7]]\n",
    "B = [[5, -1], [1, 2], [4, 1]]\n",
    "\n",
    "if len(A) == len(B) and len(A[0]) == len(B[0]):\n",
    "    result = []\n",
    "    for i in range(len(A)):\n",
    "        row = []\n",
    "        for j in range(len(A[0])):\n",
    "            row.append(A[i][j] * B[i][j])\n",
    "        result.append(row)\n",
    "print(result)\n",
    "\n",
    "## Numpy\n",
    "A = np.array([[1, 5], [6, 4], [2, 7]])\n",
    "B = np.array([[5, -1], [1, 2], [4, 1]])\n",
    "print(A * B)"
   ]
  },
  {
   "cell_type": "code",
   "execution_count": 29,
   "metadata": {},
   "outputs": [
    {
     "name": "stdout",
     "output_type": "stream",
     "text": [
      "[[-1, 8, 3], [5, -1, 11], [13, -11, 23]]\n",
      "[[ -1   8   3]\n",
      " [  5  -1  11]\n",
      " [ 13 -11  23]]\n"
     ]
    }
   ],
   "source": [
    "## Matrix Multiplication\n",
    "## Python\n",
    "A = [[2, 7], [3, 4], [5, 2]]\n",
    "B = [[3, -3, 5], [-1, 2, -1]]\n",
    "\n",
    "## rows of A times columns of B\n",
    "if len(A[0]) == len(B):\n",
    "    result = []\n",
    "    for i in range(len(A)): ## A의 row1과 B의 col1, col2, col3이 각각 result의 row1을 채운다. 간단하게 보면 A의 row 수 만큼 반복.\n",
    "        row = []\n",
    "        for j in range(len(B[0])): ## B의 column 수 만큼 반복.\n",
    "            entry = 0\n",
    "            for k in range(len(B)): ## A의 columns 또는 B의 rows\n",
    "                entry += (A[i][k] * B[k][j])\n",
    "            row.append(entry)\n",
    "        result.append(row)\n",
    "print(result)\n",
    "\n",
    "## Numpy\n",
    "A = np.array([[2, 7], [3, 4], [5, 2]])\n",
    "B = np.array([[3, -3, 5], [-1, 2, -1]])\n",
    "print(np.matmul(A, B))"
   ]
  },
  {
   "cell_type": "code",
   "execution_count": null,
   "metadata": {},
   "outputs": [],
   "source": []
  }
 ],
 "metadata": {
  "kernelspec": {
   "display_name": "Python 3",
   "language": "python",
   "name": "python3"
  },
  "language_info": {
   "codemirror_mode": {
    "name": "ipython",
    "version": 3
   },
   "file_extension": ".py",
   "mimetype": "text/x-python",
   "name": "python",
   "nbconvert_exporter": "python",
   "pygments_lexer": "ipython3",
   "version": "3.8.10"
  },
  "orig_nbformat": 4
 },
 "nbformat": 4,
 "nbformat_minor": 2
}
